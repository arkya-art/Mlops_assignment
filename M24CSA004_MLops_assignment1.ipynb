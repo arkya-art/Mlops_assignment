{
  "nbformat": 4,
  "nbformat_minor": 0,
  "metadata": {
    "colab": {
      "provenance": [],
      "toc_visible": true
    },
    "kernelspec": {
      "name": "python3",
      "display_name": "Python 3"
    },
    "language_info": {
      "name": "python"
    }
  },
  "cells": [
    {
      "cell_type": "markdown",
      "source": [
        "## MLOps Assignment 1"
      ],
      "metadata": {
        "id": "LlIGlcIiywyq"
      }
    },
    {
      "cell_type": "markdown",
      "source": [
        "Q1. Print multiplication table from 1 to 10"
      ],
      "metadata": {
        "id": "i3GplYoCqa89"
      }
    },
    {
      "cell_type": "code",
      "source": [
        "#write here and run the cell\n",
        "\n",
        "for num in range(1,11):\n",
        "\n",
        "  print(\"multiplication table for {num}:\".format(num=num), end=\" \")\n",
        "  for mult in range(1,11):\n",
        "    print(num*mult, end=\" \")\n",
        "  print(\"\\n\")"
      ],
      "metadata": {
        "id": "Vfm5RBY0qbIs",
        "colab": {
          "base_uri": "https://localhost:8080/"
        },
        "outputId": "d26a6ff2-b6d3-413b-e8a9-e6b94c0bc43e"
      },
      "execution_count": null,
      "outputs": [
        {
          "output_type": "stream",
          "name": "stdout",
          "text": [
            "multiplication table for 1: 1 2 3 4 5 6 7 8 9 10 \n",
            "\n",
            "multiplication table for 2: 2 4 6 8 10 12 14 16 18 20 \n",
            "\n",
            "multiplication table for 3: 3 6 9 12 15 18 21 24 27 30 \n",
            "\n",
            "multiplication table for 4: 4 8 12 16 20 24 28 32 36 40 \n",
            "\n",
            "multiplication table for 5: 5 10 15 20 25 30 35 40 45 50 \n",
            "\n",
            "multiplication table for 6: 6 12 18 24 30 36 42 48 54 60 \n",
            "\n",
            "multiplication table for 7: 7 14 21 28 35 42 49 56 63 70 \n",
            "\n",
            "multiplication table for 8: 8 16 24 32 40 48 56 64 72 80 \n",
            "\n",
            "multiplication table for 9: 9 18 27 36 45 54 63 72 81 90 \n",
            "\n",
            "multiplication table for 10: 10 20 30 40 50 60 70 80 90 100 \n",
            "\n"
          ]
        }
      ]
    },
    {
      "cell_type": "markdown",
      "source": [
        "Q2. Given two lists, l1 and l2, write a program to create a third list l3 by picking an odd-index element from the list l1 and even index elements from the list l2."
      ],
      "metadata": {
        "id": "kCxjfhGtiMFb"
      }
    },
    {
      "cell_type": "code",
      "source": [
        "#write here and run the cell\n",
        "\n",
        "def elem_selection(l1,l2):\n",
        "\n",
        "  l3 = []\n",
        "  for idx in range(len(l1)):\n",
        "    if idx % 2 == 0:\n",
        "      l3.append(l2[idx])\n",
        "\n",
        "    else:\n",
        "      l3.append(l1[idx])\n",
        "\n",
        "  return l3\n",
        "\n",
        "l1 = [1,2,3,4,5,6,7,8]\n",
        "l2 = [10,13,17,12,15,18,20,23]\n",
        "\n",
        "result = elem_selection(l1,l2)\n",
        "print(result)"
      ],
      "metadata": {
        "id": "r1lkQPN8iNSc",
        "colab": {
          "base_uri": "https://localhost:8080/"
        },
        "outputId": "02b24f32-fb4d-434b-f62d-d1f47c93a427"
      },
      "execution_count": null,
      "outputs": [
        {
          "output_type": "stream",
          "name": "stdout",
          "text": [
            "[10, 2, 17, 4, 15, 6, 20, 8]\n"
          ]
        }
      ]
    },
    {
      "cell_type": "markdown",
      "source": [
        "Q3. Print a this pattern(*)\n",
        "\n",
        "    * * * * * * * *\n",
        "      * * * * * * *\n",
        "        * * * * * *\n",
        "          * * * * *\n",
        "            * * * *\n",
        "              * * *\n",
        "                * *\n",
        "                  *"
      ],
      "metadata": {
        "id": "GBb0FgtIq4YA"
      }
    },
    {
      "cell_type": "code",
      "source": [
        "#write here and run the cell\n",
        "\n",
        "for i in range(8):\n",
        "  for j in range(8):\n",
        "\n",
        "    if i>j:\n",
        "      print(\" \", end=\" \")\n",
        "    else:\n",
        "      print(\"*\", end=\" \")\n",
        "  print(\"\\n\")"
      ],
      "metadata": {
        "id": "rfbGzuA3rcGs",
        "colab": {
          "base_uri": "https://localhost:8080/"
        },
        "outputId": "13a92f69-2712-464c-c02c-dd7c6b89352e"
      },
      "execution_count": null,
      "outputs": [
        {
          "output_type": "stream",
          "name": "stdout",
          "text": [
            "* * * * * * * * \n",
            "\n",
            "  * * * * * * * \n",
            "\n",
            "    * * * * * * \n",
            "\n",
            "      * * * * * \n",
            "\n",
            "        * * * * \n",
            "\n",
            "          * * * \n",
            "\n",
            "            * * \n",
            "\n",
            "              * \n",
            "\n"
          ]
        }
      ]
    },
    {
      "cell_type": "markdown",
      "source": [
        "Q4. Create a function named `exponent(base, exp)` that returns an integer representing the result of raising `base` to the power of `exp`.\n",
        "`exp` is >0.\n",
        "\n",
        "base = 5\n",
        "exponent = 4\n",
        "\n",
        "5 raises to the power of 4 is: 625\n",
        "i.e. (5 *5 * 5 *5 = 625)"
      ],
      "metadata": {
        "id": "WIblh-z6s9me"
      }
    },
    {
      "cell_type": "code",
      "source": [
        "#write here and run the cell\n",
        "\n",
        "def expo(base, exponent):\n",
        "\n",
        "  result = 1\n",
        "  for i in range(exponent):\n",
        "    result = result*base\n",
        "\n",
        "  return result\n",
        "\n",
        "base = 5\n",
        "exponent = 4\n",
        "\n",
        "res = expo(base, exponent)\n",
        "print(res)"
      ],
      "metadata": {
        "id": "6-KKDQNWs8eQ",
        "colab": {
          "base_uri": "https://localhost:8080/"
        },
        "outputId": "76e1b98b-abad-46c3-d27b-973d05028e1e"
      },
      "execution_count": null,
      "outputs": [
        {
          "output_type": "stream",
          "name": "stdout",
          "text": [
            "625\n"
          ]
        }
      ]
    },
    {
      "cell_type": "markdown",
      "source": [
        "Q5. Create a file named test.txt and insert the following content into it.\n",
        "\n",
        "    line1\n",
        "    line2\n",
        "    line3\n",
        "    line4\n",
        "    line5\n",
        "    line6\n",
        "    line7\n",
        "\n",
        "Write a program which write all content of a given file (test.txt) into a new file by skipping line number 5 (line5)"
      ],
      "metadata": {
        "id": "_QUrD8h6t6PN"
      }
    },
    {
      "cell_type": "code",
      "source": [
        "#write here and run the cell\n",
        "\n",
        "with open(\"test.txt\",\"w\") as file_obj:\n",
        "    file_obj.write(\"\\n Line1 \\n Line2 \\n Line3 \\n Line4 \\n Line5 \\n Line6 \\n Line7\")\n",
        "\n",
        "\n",
        "with open(\"test.txt\", \"r\") as read_file_obj, open(\"skip.txt\", \"w\") as write_file_obj:\n",
        "    content = read_file_obj.readlines()\n",
        "    for idx, line in enumerate(content):\n",
        "        if idx != 5:\n",
        "          write_file_obj.write(line)\n"
      ],
      "metadata": {
        "id": "I2KF1QHKrq-s"
      },
      "execution_count": null,
      "outputs": []
    },
    {
      "cell_type": "markdown",
      "source": [
        "Q6. Write a program which receives three names from the user in a single input() function call.\n",
        "\n",
        "    Input: IIT JODHPUR RAJASTHAN\n",
        "\n",
        "    Output:\n",
        "    IIT\n",
        "    JODHPUR\n",
        "    RAJASTHAN"
      ],
      "metadata": {
        "id": "6cdAt0ONvMVI"
      }
    },
    {
      "cell_type": "code",
      "source": [
        "#write here and run the cell\n",
        "\n",
        "def print_names_using_input_func():\n",
        "\n",
        "  inp = input(\"Enter the user input: \").split()\n",
        "\n",
        "  for val in inp:\n",
        "    print(val)\n",
        "\n",
        "print_names_using_input_func()"
      ],
      "metadata": {
        "id": "Mo0wyeB6vJJm",
        "colab": {
          "base_uri": "https://localhost:8080/"
        },
        "outputId": "579f5bda-08b9-4cb5-bf28-f0d2c424de00"
      },
      "execution_count": null,
      "outputs": [
        {
          "output_type": "stream",
          "name": "stdout",
          "text": [
            "Enter the user input: IIT JODHPUR RAJASTHAN\n",
            "IIT\n",
            "JODHPUR\n",
            "RAJASTHAN\n"
          ]
        }
      ]
    },
    {
      "cell_type": "markdown",
      "source": [
        "Q7. Write a program to define a function called show_employee() with the following requirements:\n",
        "\n",
        "*   It should take the employee's name and salary as input and display both.\n",
        "*   If the salary is not provided in the function call, assign a default value of 9000 to it.\n",
        "\n",
        "After passing:\n",
        "\n",
        "showEmployee(\"Bill Gates\", 12000)\n",
        "\n",
        "showEmployee(\"Elon Musk\")\n",
        "\n",
        "It should print:\n",
        "\n",
        "Name: Bill Gates salary: 12000\n",
        "\n",
        "Name: Elon Musk salary: 9000"
      ],
      "metadata": {
        "id": "jwSKpPcYv_De"
      }
    },
    {
      "cell_type": "code",
      "source": [
        "#write here and run the cell\n",
        "\n",
        "def showEmployee(name, salary=None):\n",
        "\n",
        "  if salary:\n",
        "    print(\"Name:\", name, \"salary:\", salary)\n",
        "\n",
        "  else:\n",
        "    print(\"Name:\", name, \"salary:\", 9000)\n",
        "\n",
        "\n",
        "showEmployee(\"Bill Gates\", 12000)\n",
        "showEmployee(\"Elon Musk\")"
      ],
      "metadata": {
        "id": "yyzhkF1Lv94j",
        "colab": {
          "base_uri": "https://localhost:8080/"
        },
        "outputId": "6a5aea57-33f3-412a-cc62-e04b25010a57"
      },
      "execution_count": null,
      "outputs": [
        {
          "output_type": "stream",
          "name": "stdout",
          "text": [
            "Name: Bill Gates salary: 12000\n",
            "Name: Elon Musk salary: 9000\n"
          ]
        }
      ]
    },
    {
      "cell_type": "markdown",
      "source": [
        "Q8. Write a program to identify words that contain both letters and digits from a given input string.\n",
        "\n",
        "    Given str1 = \"Harry25 is Gryffindor Wizard50 and cursed\"\n",
        "\n",
        "    Output:\n",
        "    Harry25\n",
        "    Wizard50"
      ],
      "metadata": {
        "id": "BAtCQH3pxXWV"
      }
    },
    {
      "cell_type": "code",
      "source": [
        "#write here and run the cell\n",
        "\n",
        "def check_letter_digit(string):\n",
        "\n",
        "    word_list = string.split()\n",
        "    output_list = []\n",
        "\n",
        "    for word in word_list:\n",
        "         if any(letter.isalpha() for letter in word) and any(letter.isdigit() for letter in word):\n",
        "             output_list.append(word)\n",
        "\n",
        "    for word in output_list:\n",
        "        print(word)\n",
        "\n",
        "string = \"Harry25 is Gryffindor Wizard50 and cursed\"\n",
        "check_letter_digit(string)\n"
      ],
      "metadata": {
        "id": "bqbyxYdqvJHY",
        "colab": {
          "base_uri": "https://localhost:8080/"
        },
        "outputId": "2cc23bad-ac66-400e-9777-b1049deb7cec"
      },
      "execution_count": null,
      "outputs": [
        {
          "output_type": "stream",
          "name": "stdout",
          "text": [
            "Harry25\n",
            "Wizard50\n"
          ]
        }
      ]
    },
    {
      "cell_type": "markdown",
      "source": [
        "Q9. Write a program to substitute each special character in the given string with the symbol #.\n",
        "\n",
        "    Given: str1 = '/*Modi is @Politician & Melony!!'\n",
        "\n",
        "    Output: ##Modi is #Politician # Melony##"
      ],
      "metadata": {
        "id": "Ev6TIw7oyGzJ"
      }
    },
    {
      "cell_type": "code",
      "source": [
        "#write here and run the cell\n",
        "\n",
        "def replace_special_char(string):\n",
        "    word_list = list(string)\n",
        "    output_list = []\n",
        "\n",
        "    for char in word_list:\n",
        "         if not (char.isalpha() or char.isdigit() or char==\" \"):\n",
        "             char = \"#\"\n",
        "             output_list.append(char)\n",
        "         else:\n",
        "             output_list.append(char)\n",
        "\n",
        "    return \"\".join(output_list)\n",
        "\n",
        "string = '/*Modi is @Politician & Melony!!'\n",
        "res = replace_special_char(string)\n",
        "print(res)"
      ],
      "metadata": {
        "id": "Hbg92hJtvJE7",
        "colab": {
          "base_uri": "https://localhost:8080/"
        },
        "outputId": "91bc244e-13d5-41e8-b41c-367b827e5a9c"
      },
      "execution_count": null,
      "outputs": [
        {
          "output_type": "stream",
          "name": "stdout",
          "text": [
            "##Modi is #Politician # Melony##\n"
          ]
        }
      ]
    },
    {
      "cell_type": "markdown",
      "source": [
        "Q10. Construct a Python set that displays elements from both lists as pairs.\n",
        "\n",
        "    Given:\n",
        "\n",
        "    first_list = [2, 3, 4, 5, 6, 7, 8]\n",
        "    second_list = [4, 9, 16, 25, 36, 49, 64]\n",
        "    Output: Result is  {(6, 36), (8, 64), (4, 16), (5, 25), (3, 9), (7, 49), (2, 4)}"
      ],
      "metadata": {
        "id": "L9zg8k_XyoMz"
      }
    },
    {
      "cell_type": "code",
      "source": [
        "#write here and run the cell\n",
        "\n",
        "def form_list_pairs(list1, list2):\n",
        "\n",
        "    set_pairs = {(list1[i],list2[i]) for i in range(len(list1))}\n",
        "\n",
        "    return set_pairs\n",
        "\n",
        "first_list = [2, 3, 4, 5, 6, 7, 8]\n",
        "second_list = [4, 9, 16, 25, 36, 49, 64]\n",
        "res = form_list_pairs(list1=first_list, list2=second_list)\n",
        "print(res)"
      ],
      "metadata": {
        "id": "aSBw6V0OvJCS",
        "colab": {
          "base_uri": "https://localhost:8080/"
        },
        "outputId": "5349cf4d-9134-4cb5-e267-24e961043706"
      },
      "execution_count": null,
      "outputs": [
        {
          "output_type": "stream",
          "name": "stdout",
          "text": [
            "{(7, 49), (2, 4), (4, 16), (8, 64), (6, 36), (3, 9), (5, 25)}\n"
          ]
        }
      ]
    },
    {
      "cell_type": "markdown",
      "source": [
        "Q11. Define two set A and B consisting of 5 elements. Now print the element after performing\n",
        "\n",
        "\n",
        "      1.   A-B\n",
        "      2.   B-A\n",
        "      3.   A∩B\n",
        "      4.   A∪B\n",
        "\n",
        "\n"
      ],
      "metadata": {
        "id": "JHa0SMOozZo9"
      }
    },
    {
      "cell_type": "code",
      "source": [
        "#write here and run the cell\n",
        "\n",
        "A = {1,2,3,4,5}\n",
        "B = {3,4,5,6,7}\n",
        "\n",
        "print(A-B)\n",
        "print(B-A)\n",
        "print(A.intersection(B))\n",
        "print(A.union(B))"
      ],
      "metadata": {
        "id": "r9vL1bpHzZGg",
        "colab": {
          "base_uri": "https://localhost:8080/"
        },
        "outputId": "b3bf36df-f501-43b5-daaf-5f09ef3f8ace"
      },
      "execution_count": null,
      "outputs": [
        {
          "output_type": "stream",
          "name": "stdout",
          "text": [
            "{1, 2}\n",
            "{6, 7}\n",
            "{3, 4, 5}\n",
            "{1, 2, 3, 4, 5, 6, 7}\n"
          ]
        }
      ]
    },
    {
      "cell_type": "markdown",
      "source": [
        "## Object Oriented Programming Exercise 1:\n",
        "\n",
        "[Classes and Objects in Python](https://pynative.com/python-classes-and-objects/)\n",
        "\n",
        "[Instance variables in Python](https://pynative.com/python-instance-variables/)"
      ],
      "metadata": {
        "id": "UFjTtL_i00dz"
      }
    },
    {
      "cell_type": "markdown",
      "source": [
        "Q12. Create a Vehicle class with max_speed and mileage instance attributes."
      ],
      "metadata": {
        "id": "-PQELvq41z5B"
      }
    },
    {
      "cell_type": "code",
      "source": [
        "#write here and run the cell\n",
        "\n",
        "class Vehicle:\n",
        "\n",
        "    def __init__(self, max_speed, mileage):\n",
        "        self.max_speed = max_speed\n",
        "        self.mileage = mileage\n",
        "\n",
        "    def print_info(self):\n",
        "        print(\"Max Speed is:\", self.max_speed)\n",
        "        print(\"Max Mileage is:\", self.mileage)\n",
        "\n",
        "veh = Vehicle(max_speed=250, mileage=1500)\n",
        "print(veh.max_speed)\n",
        "print(veh.mileage)\n",
        "veh.print_info()"
      ],
      "metadata": {
        "id": "Wa16l5-C0z3Z",
        "colab": {
          "base_uri": "https://localhost:8080/"
        },
        "outputId": "e278f4ff-feea-49da-b11f-c096303a0649"
      },
      "execution_count": null,
      "outputs": [
        {
          "output_type": "stream",
          "name": "stdout",
          "text": [
            "250\n",
            "1500\n",
            "Max Speed is: 250\n",
            "Max Mileage is: 1500\n"
          ]
        }
      ]
    },
    {
      "cell_type": "markdown",
      "source": [
        "Q13. Create a child class Bus that will inherit all of the variables and methods of the Vehicle class.\n",
        "\n",
        "Create a Bus object that will inherit all of the variables and methods of the parent Vehicle class and display it."
      ],
      "metadata": {
        "id": "-Japqg35177L"
      }
    },
    {
      "cell_type": "code",
      "source": [
        "#write here and run the cell\n",
        "\n",
        "class Bus(Vehicle):\n",
        "\n",
        "    pass\n",
        "\n",
        "bus_obj = Bus(100,5000)\n",
        "\n",
        "print(bus_obj.max_speed)\n",
        "print(bus_obj.mileage)\n",
        "bus_obj.print_info()"
      ],
      "metadata": {
        "id": "nUvpX3qR2Upg",
        "colab": {
          "base_uri": "https://localhost:8080/"
        },
        "outputId": "1a38952b-d66c-487f-97f0-2cd09db57308"
      },
      "execution_count": null,
      "outputs": [
        {
          "output_type": "stream",
          "name": "stdout",
          "text": [
            "100\n",
            "5000\n",
            "Max Speed is: 100\n",
            "Max Mileage is: 5000\n"
          ]
        }
      ]
    },
    {
      "cell_type": "markdown",
      "source": [
        "### Class Inheritance\n",
        "\n",
        "Q14. Create a Bus class that inherits from the Vehicle class. Give the capacity argument of Bus.seating_capacity() a default value of 50.\n",
        "\n",
        "Use the following code for your parent Vehicle class.\n",
        "\n",
        "    class Vehicle:\n",
        "      def __init__(self, name, max_speed, mileage):\n",
        "          self.name = name\n",
        "          self.max_speed = max_speed\n",
        "          self.mileage = mileage\n",
        "\n",
        "      def seating_capacity(self, capacity):\n",
        "          return f\"The seating capacity of a {self.name} is {capacity} passengers\"\n",
        "\n",
        "Expected Output:\n",
        "\n",
        "    The seating capacity of a bus is 50 passengers"
      ],
      "metadata": {
        "id": "fPFfg2Hh2VBe"
      }
    },
    {
      "cell_type": "code",
      "source": [
        "#write here and run the cell\n",
        "\n",
        "class Vehicle:\n",
        "  def __init__(self, name, max_speed, mileage):\n",
        "      self.name = name\n",
        "      self.max_speed = max_speed\n",
        "      self.mileage = mileage\n",
        "\n",
        "  def seating_capacity(self, capacity):\n",
        "      return f\"The seating capacity of a {self.name} is {capacity} passengers\"\n",
        "\n",
        "class Bus(Vehicle):\n",
        "  pass\n",
        "\n",
        "bus_obj = Bus(name=\"School Bus\", max_speed=100, mileage=6000)\n",
        "bus_obj.seating_capacity(capacity=50)"
      ],
      "metadata": {
        "id": "TKalMy1B2_Ix",
        "colab": {
          "base_uri": "https://localhost:8080/",
          "height": 36
        },
        "outputId": "9bd19997-a9f4-475b-edee-4cc9a8f9fed7"
      },
      "execution_count": null,
      "outputs": [
        {
          "output_type": "execute_result",
          "data": {
            "text/plain": [
              "'The seating capacity of a School Bus is 50 passengers'"
            ],
            "application/vnd.google.colaboratory.intrinsic+json": {
              "type": "string"
            }
          },
          "metadata": {},
          "execution_count": 21
        }
      ]
    },
    {
      "cell_type": "markdown",
      "source": [
        "Q15. Create a Bus subclass that inherits from the Vehicle class. By default, the fare for any vehicle is calculated as the seating capacity multiplied by 100. For instances of the Bus class, an additional 10% maintenance fee should be applied to the total fare. Therefore, the final fare for a bus instance will be the sum of the total fare plus an additional 10% of that total fare.\n",
        "\n",
        "Note: The bus has a seating capacity of 50, so the final fare amount should be 5500. You need to override the fare() method from the Vehicle class in the Bus class.\n",
        "\n",
        "Use the provided code for the parent Vehicle class. You should access the parent class within a method of the child class.\n",
        "\n",
        "    class Vehicle:\n",
        "      def __init__(self, name, mileage, capacity):\n",
        "        self.name = name\n",
        "        self.mileage = mileage\n",
        "        self.capacity = capacity\n",
        "\n",
        "      def fare(self):\n",
        "        return self.capacity * 100\n",
        "\n",
        "    class Bus(Vehicle):\n",
        "        pass\n",
        "        School_bus = Bus(\"School Volvo\", 12, 50)\n",
        "        print(\"Total Bus fare is:\", School_bus.fare())\n",
        "\n",
        "    Expected Output:\n",
        "\n",
        "    Total Bus fare is: 5500.0"
      ],
      "metadata": {
        "id": "kenJ766m2_jc"
      }
    },
    {
      "cell_type": "code",
      "source": [
        "#write here and run the cell\n",
        "\n",
        "class Vehicle:\n",
        "  def __init__(self, name, mileage, capacity):\n",
        "    self.name = name\n",
        "    self.mileage = mileage\n",
        "    self.capacity = capacity\n",
        "\n",
        "  def fare(self):\n",
        "    return self.capacity * 100\n",
        "\n",
        "class Bus(Vehicle):\n",
        "\n",
        "    def fare(self):\n",
        "      return self.capacity * 100 + 0.1*self.capacity * 100\n",
        "\n",
        "School_bus = Bus(\"School Volvo\", 12, 50)\n",
        "print(\"Total Bus fare is:\", School_bus.fare())"
      ],
      "metadata": {
        "id": "jY3Z5SsY_iaQ",
        "colab": {
          "base_uri": "https://localhost:8080/"
        },
        "outputId": "0b49b80a-f223-4246-8ffb-8735b213cef7"
      },
      "execution_count": null,
      "outputs": [
        {
          "output_type": "stream",
          "name": "stdout",
          "text": [
            "Total Bus fare is: 5500.0\n"
          ]
        }
      ]
    },
    {
      "cell_type": "markdown",
      "source": [
        "### Python JSON Exercise\n",
        "Refer: [Python JSON tutorials](https://pynative.com/python/json/)"
      ],
      "metadata": {
        "id": "3wMvLEkk_nWE"
      }
    },
    {
      "cell_type": "markdown",
      "source": [
        "Q16. Convert the following dictionary into JSON format\n",
        "\n",
        "    data = {\"key1\" : \"value1\", \"key2\" : \"value2\"}\n",
        "    data = {\"key1\" : \"value1\", \"key2\" : \"value2\"}"
      ],
      "metadata": {
        "id": "zVIiuI0PAcuT"
      }
    },
    {
      "cell_type": "code",
      "source": [
        "#write here and run the cell\n",
        "\n",
        "import json\n",
        "\n",
        "data = {\"key1\" : \"value1\", \"key2\" : \"value2\"}\n",
        "\n",
        "json_data = json.dumps(data)\n",
        "\n",
        "print(json_data)"
      ],
      "metadata": {
        "id": "Z5M47OYS_mhA",
        "colab": {
          "base_uri": "https://localhost:8080/"
        },
        "outputId": "1ce63cd4-a660-43ed-c6f9-54c95b6d2927"
      },
      "execution_count": null,
      "outputs": [
        {
          "output_type": "stream",
          "name": "stdout",
          "text": [
            "{\"key1\": \"value1\", \"key2\": \"value2\"}\n"
          ]
        }
      ]
    },
    {
      "cell_type": "markdown",
      "source": [
        "Q17. Sort JSON keys in and write them into a file\n",
        "\n",
        "    sampleJson = {\"id\" : 1, \"name\" : \"value2\", \"age\" : 29}\n",
        "\n",
        "    {\n",
        "          \"age\": 29,\n",
        "          \"id\": 1,\n",
        "          \"name\": \"value2\"\n",
        "    }"
      ],
      "metadata": {
        "id": "8eE35QccA_X-"
      }
    },
    {
      "cell_type": "code",
      "source": [
        "#write here and run the cell\n",
        "\n",
        "sampleJson = {\"id\" : 1, \"name\" : \"value2\", \"age\" : 29}\n",
        "\n",
        "with open(\"sort_keys.json\", \"w\") as write_obj:\n",
        "  json.dump(sampleJson, write_obj,sort_keys=True)"
      ],
      "metadata": {
        "id": "jLG5tk_X_j5O"
      },
      "execution_count": null,
      "outputs": []
    },
    {
      "cell_type": "code",
      "source": [],
      "metadata": {
        "id": "sbf1a9pHgRf0"
      },
      "execution_count": null,
      "outputs": []
    }
  ]
}